{
  "metadata": {
    "kernelspec": {
      "display_name": "Python 3",
      "language": "python",
      "name": "python3"
    },
    "language_info": {
      "name": "python",
      "version": "3.10.12",
      "mimetype": "text/x-python",
      "codemirror_mode": {
        "name": "ipython",
        "version": 3
      },
      "pygments_lexer": "ipython3",
      "nbconvert_exporter": "python",
      "file_extension": ".py"
    },
    "kaggle": {
      "accelerator": "none",
      "dataSources": [
        {
          "sourceId": 10211,
          "databundleVersionId": 111096,
          "sourceType": "competition"
        },
        {
          "sourceId": 15520,
          "sourceType": "datasetVersion",
          "datasetId": 11167
        },
        {
          "sourceId": 38454,
          "sourceType": "datasetVersion",
          "datasetId": 2709
        }
      ],
      "isInternetEnabled": false,
      "language": "python",
      "sourceType": "notebook",
      "isGpuEnabled": false
    },
    "colab": {
      "name": "Exercise: Underfitting and Overfitting",
      "provenance": []
    }
  },
  "nbformat_minor": 0,
  "nbformat": 4,
  "cells": [
    {
      "cell_type": "markdown",
      "source": [
        "## Recap\n",
        "You've built your first model, and now it's time to optimize the size of the tree to make better predictions. Run this cell to set up your coding environment where the previous step left off."
      ],
      "metadata": {
        "id": "4BuVt9Wxv46h"
      }
    },
    {
      "cell_type": "code",
      "source": [
        "# Code you have previously used to load data\n",
        "import pandas as pd\n",
        "from sklearn.metrics import mean_absolute_error\n",
        "from sklearn.model_selection import train_test_split\n",
        "from sklearn.tree import DecisionTreeRegressor\n",
        "\n",
        "\n",
        "# Path of the file to read\n",
        "iowa_file_path = '../input/home-data-for-ml-course/train.csv'\n",
        "\n",
        "home_data = pd.read_csv(iowa_file_path)\n",
        "# Create target object and call it y\n",
        "y = home_data.SalePrice\n",
        "# Create X\n",
        "features = ['LotArea', 'YearBuilt', '1stFlrSF', '2ndFlrSF', 'FullBath', 'BedroomAbvGr', 'TotRmsAbvGrd']\n",
        "X = home_data[features]\n",
        "\n",
        "# Split into validation and training data\n",
        "train_X, val_X, train_y, val_y = train_test_split(X, y, random_state=1)\n",
        "\n",
        "# Specify Model\n",
        "iowa_model = DecisionTreeRegressor(random_state=1)\n",
        "# Fit Model\n",
        "iowa_model.fit(train_X, train_y)\n",
        "\n",
        "# Make validation predictions and calculate mean absolute error\n",
        "val_predictions = iowa_model.predict(val_X)\n",
        "val_mae = mean_absolute_error(val_predictions, val_y)\n",
        "print(\"Validation MAE: {:,.0f}\".format(val_mae))\n",
        "\n",
        "# Set up code checking\n",
        "from learntools.core import binder\n",
        "binder.bind(globals())\n",
        "from learntools.machine_learning.ex5 import *\n",
        "print(\"\\nSetup complete\")"
      ],
      "metadata": {
        "trusted": true,
        "execution": {
          "iopub.status.busy": "2025-02-28T18:07:23.59576Z",
          "iopub.execute_input": "2025-02-28T18:07:23.595988Z",
          "iopub.status.idle": "2025-02-28T18:07:27.493315Z",
          "shell.execute_reply.started": "2025-02-28T18:07:23.595962Z",
          "shell.execute_reply": "2025-02-28T18:07:27.492491Z"
        },
        "id": "uJGJY9Cxv46q",
        "outputId": "bcd278a7-61b6-41be-fcd2-7310696a4be3"
      },
      "outputs": [
        {
          "name": "stdout",
          "text": "Validation MAE: 29,653\n\nSetup complete\n",
          "output_type": "stream"
        }
      ],
      "execution_count": null
    },
    {
      "cell_type": "markdown",
      "source": [
        "# Exercises\n",
        "You could write the function `get_mae` yourself. For now, we'll supply it. This is the same function you read about in the previous lesson. Just run the cell below."
      ],
      "metadata": {
        "id": "IJT-Kc3nv46t"
      }
    },
    {
      "cell_type": "code",
      "source": [
        "def get_mae(max_leaf_nodes, train_X, val_X, train_y, val_y):\n",
        "    model = DecisionTreeRegressor(max_leaf_nodes=max_leaf_nodes, random_state=0)\n",
        "    model.fit(train_X, train_y)\n",
        "    preds_val = model.predict(val_X)\n",
        "    mae = mean_absolute_error(val_y, preds_val)\n",
        "    return(mae)"
      ],
      "metadata": {
        "trusted": true,
        "execution": {
          "iopub.status.busy": "2025-02-28T18:07:37.949844Z",
          "iopub.execute_input": "2025-02-28T18:07:37.950155Z",
          "iopub.status.idle": "2025-02-28T18:07:37.954753Z",
          "shell.execute_reply.started": "2025-02-28T18:07:37.95013Z",
          "shell.execute_reply": "2025-02-28T18:07:37.953688Z"
        },
        "id": "QzyxJIMRv46u"
      },
      "outputs": [],
      "execution_count": null
    },
    {
      "cell_type": "markdown",
      "source": [
        "## Step 1: Compare Different Tree Sizes\n",
        "Write a loop that tries the following values for *max_leaf_nodes* from a set of possible values.\n",
        "\n",
        "Call the *get_mae* function on each value of max_leaf_nodes. Store the output in some way that allows you to select the value of `max_leaf_nodes` that gives the most accurate model on your data."
      ],
      "metadata": {
        "id": "J4sVSHNZv46v"
      }
    },
    {
      "cell_type": "code",
      "source": [
        "candidate_max_leaf_nodes = [5, 25, 50, 100, 250, 500]\n",
        "# Write loop to find the ideal tree size from candidate_max_leaf_nodes\n",
        "list_mae = []\n",
        "for num_nodes in candidate_max_leaf_nodes:\n",
        "    result = get_mae(num_nodes, train_X, val_X, train_y, val_y)\n",
        "    list_mae.append(result)\n",
        "#[debug]print(list_mae)\n",
        "# Store the best value of max_leaf_nodes (it will be either 5, 25, 50, 100, 250 or 500)\n",
        "best_tree_size = candidate_max_leaf_nodes[list_mae.index(min(list_mae))]\n",
        "\n",
        "# Check your answer\n",
        "step_1.check()"
      ],
      "metadata": {
        "trusted": true,
        "execution": {
          "iopub.status.busy": "2025-02-28T18:07:39.517293Z",
          "iopub.execute_input": "2025-02-28T18:07:39.517576Z",
          "iopub.status.idle": "2025-02-28T18:07:39.557578Z",
          "shell.execute_reply.started": "2025-02-28T18:07:39.517555Z",
          "shell.execute_reply": "2025-02-28T18:07:39.556202Z"
        },
        "id": "vGh53nquv46v",
        "outputId": "115ade12-60da-4d83-f75a-7d8121f8d47d"
      },
      "outputs": [
        {
          "output_type": "display_data",
          "data": {
            "text/plain": "<IPython.core.display.Javascript object>",
            "application/javascript": "parent.postMessage({\"jupyterEvent\": \"custom.exercise_interaction\", \"data\": {\"outcomeType\": 1, \"valueTowardsCompletion\": 0.5, \"interactionType\": 1, \"questionType\": 1, \"questionId\": \"1_BestTreeSize\", \"learnToolsVersion\": \"0.3.4\", \"failureMessage\": \"\", \"exceptionClass\": \"\", \"trace\": \"\"}}, \"*\")"
          },
          "metadata": {}
        },
        {
          "output_type": "display_data",
          "data": {
            "text/plain": "Correct",
            "text/markdown": "<span style=\"color:#33cc33\">Correct</span>"
          },
          "metadata": {}
        }
      ],
      "execution_count": null
    },
    {
      "cell_type": "code",
      "source": [
        "# The lines below will show you a hint or the solution.\n",
        "# step_1.hint()\n",
        "step_1.solution()"
      ],
      "metadata": {
        "trusted": true,
        "execution": {
          "iopub.status.busy": "2025-02-28T18:07:42.881179Z",
          "iopub.execute_input": "2025-02-28T18:07:42.881472Z",
          "iopub.status.idle": "2025-02-28T18:07:42.888618Z",
          "shell.execute_reply.started": "2025-02-28T18:07:42.881447Z",
          "shell.execute_reply": "2025-02-28T18:07:42.887657Z"
        },
        "id": "FZj0yik2v46w",
        "outputId": "bea5b6d8-9518-411c-db36-bf99ec15bef2"
      },
      "outputs": [
        {
          "output_type": "display_data",
          "data": {
            "text/plain": "<IPython.core.display.Javascript object>",
            "application/javascript": "parent.postMessage({\"jupyterEvent\": \"custom.exercise_interaction\", \"data\": {\"interactionType\": 3, \"questionType\": 1, \"questionId\": \"1_BestTreeSize\", \"learnToolsVersion\": \"0.3.4\", \"valueTowardsCompletion\": 0.0, \"failureMessage\": \"\", \"exceptionClass\": \"\", \"trace\": \"\", \"outcomeType\": 4}}, \"*\")"
          },
          "metadata": {}
        },
        {
          "output_type": "display_data",
          "data": {
            "text/plain": "Solution: \n```python\n# Here is a short solution with a dict comprehension.\n# The lesson gives an example of how to do this with an explicit loop.\nscores = {leaf_size: get_mae(leaf_size, train_X, val_X, train_y, val_y) for leaf_size in candidate_max_leaf_nodes}\nbest_tree_size = min(scores, key=scores.get)\n\n```",
            "text/markdown": "<span style=\"color:#33cc99\">Solution:</span> \n```python\n# Here is a short solution with a dict comprehension.\n# The lesson gives an example of how to do this with an explicit loop.\nscores = {leaf_size: get_mae(leaf_size, train_X, val_X, train_y, val_y) for leaf_size in candidate_max_leaf_nodes}\nbest_tree_size = min(scores, key=scores.get)\n\n```"
          },
          "metadata": {}
        }
      ],
      "execution_count": null
    },
    {
      "cell_type": "code",
      "source": [
        "import matplotlib.pyplot as plt\n",
        "from matplotlib.pyplot import plot\n",
        "import seaborn as sns\n",
        "\n",
        "#To check whether data is correct\n",
        "print(candidate_max_leaf_nodes)\n",
        "print(list_mae)\n",
        "\n",
        "# Variables\n",
        "a = candidate_max_leaf_nodes\n",
        "b = list_mae\n",
        "\n",
        "# Plot\n",
        "plot(a, b ,'o')\n",
        "plot(a, b, '-')\n",
        "plt.xlabel('the nuber of leaf')\n",
        "plt.ylabel('Mean Average Error')\n",
        "plt.title('Tree model')\n",
        "plt.grid(color='grey', linestyle='-', linewidth=0.25, alpha=0.5)"
      ],
      "metadata": {
        "trusted": true,
        "execution": {
          "iopub.status.busy": "2025-02-28T18:07:43.758305Z",
          "iopub.execute_input": "2025-02-28T18:07:43.758749Z",
          "iopub.status.idle": "2025-02-28T18:07:43.941896Z",
          "shell.execute_reply.started": "2025-02-28T18:07:43.758676Z",
          "shell.execute_reply": "2025-02-28T18:07:43.940509Z"
        },
        "id": "dRnb3FSiv46x",
        "outputId": "41958f7a-3d73-4025-d600-7205785e758f"
      },
      "outputs": [
        {
          "name": "stdout",
          "text": "[5, 25, 50, 100, 250, 500]\n[35044.51299744237, 29016.41319191076, 27405.930473214907, 27282.50803885739, 27893.822225701646, 29454.18598068598]\n",
          "output_type": "stream"
        },
        {
          "output_type": "display_data",
          "data": {
            "text/plain": "<Figure size 640x480 with 1 Axes>",
            "image/png": "[encoded data removed]"
          },
          "metadata": {}
        }
      ],
      "execution_count": null
    },
    {
      "cell_type": "code",
      "source": [
        "\n",
        "help(plot)"
      ],
      "metadata": {
        "trusted": true,
        "execution": {
          "iopub.status.busy": "2025-02-28T18:07:28.368833Z",
          "iopub.execute_input": "2025-02-28T18:07:28.369262Z",
          "iopub.status.idle": "2025-02-28T18:07:28.374452Z",
          "shell.execute_reply.started": "2025-02-28T18:07:28.36924Z",
          "shell.execute_reply": "2025-02-28T18:07:28.373419Z"
        },
        "id": "GqgltPY2v46y",
        "outputId": "c3eca695-6f54-457e-86cc-cc4a003f3939"
      },
      "outputs": [
        {
          "name": "stdout",
          "text": "Help on function plot in module matplotlib.pyplot:\n\nplot(*args, scalex=True, scaley=True, data=None, **kwargs)\n    Plot y versus x as lines and/or markers.\n    \n    Call signatures::\n    \n        plot([x], y, [fmt], *, data=None, **kwargs)\n        plot([x], y, [fmt], [x2], y2, [fmt2], ..., **kwargs)\n    \n    The coordinates of the points or line nodes are given by *x*, *y*.\n    \n    The optional parameter *fmt* is a convenient way for defining basic\n    formatting like color, marker and linestyle. It's a shortcut string\n    notation described in the *Notes* section below.\n    \n    >>> plot(x, y)        # plot x and y using default line style and color\n    >>> plot(x, y, 'bo')  # plot x and y using blue circle markers\n    >>> plot(y)           # plot y using x as index array 0..N-1\n    >>> plot(y, 'r+')     # ditto, but with red plusses\n    \n    You can use `.Line2D` properties as keyword arguments for more\n    control on the appearance. Line properties and *fmt* can be mixed.\n    The following two calls yield identical results:\n    \n    >>> plot(x, y, 'go--', linewidth=2, markersize=12)\n    >>> plot(x, y, color='green', marker='o', linestyle='dashed',\n    ...      linewidth=2, markersize=12)\n    \n    When conflicting with *fmt*, keyword arguments take precedence.\n    \n    \n    **Plotting labelled data**\n    \n    There's a convenient way for plotting objects with labelled data (i.e.\n    data that can be accessed by index ``obj['y']``). Instead of giving\n    the data in *x* and *y*, you can provide the object in the *data*\n    parameter and just give the labels for *x* and *y*::\n    \n    >>> plot('xlabel', 'ylabel', data=obj)\n    \n    All indexable objects are supported. This could e.g. be a `dict`, a\n    `pandas.DataFrame` or a structured numpy array.\n    \n    \n    **Plotting multiple sets of data**\n    \n    There are various ways to plot multiple sets of data.\n    \n    - The most straight forward way is just to call `plot` multiple times.\n      Example:\n    \n      >>> plot(x1, y1, 'bo')\n      >>> plot(x2, y2, 'go')\n    \n    - If *x* and/or *y* are 2D arrays a separate data set will be drawn\n      for every column. If both *x* and *y* are 2D, they must have the\n      same shape. If only one of them is 2D with shape (N, m) the other\n      must have length N and will be used for every data set m.\n    \n      Example:\n    \n      >>> x = [1, 2, 3]\n      >>> y = np.array([[1, 2], [3, 4], [5, 6]])\n      >>> plot(x, y)\n    \n      is equivalent to:\n    \n      >>> for col in range(y.shape[1]):\n      ...     plot(x, y[:, col])\n    \n    - The third way is to specify multiple sets of *[x]*, *y*, *[fmt]*\n      groups::\n    \n      >>> plot(x1, y1, 'g^', x2, y2, 'g-')\n    \n      In this case, any additional keyword argument applies to all\n      datasets. Also, this syntax cannot be combined with the *data*\n      parameter.\n    \n    By default, each line is assigned a different style specified by a\n    'style cycle'. The *fmt* and line property parameters are only\n    necessary if you want explicit deviations from these defaults.\n    Alternatively, you can also change the style cycle using\n    :rc:`axes.prop_cycle`.\n    \n    \n    Parameters\n    ----------\n    x, y : array-like or scalar\n        The horizontal / vertical coordinates of the data points.\n        *x* values are optional and default to ``range(len(y))``.\n    \n        Commonly, these parameters are 1D arrays.\n    \n        They can also be scalars, or two-dimensional (in that case, the\n        columns represent separate data sets).\n    \n        These arguments cannot be passed as keywords.\n    \n    fmt : str, optional\n        A format string, e.g. 'ro' for red circles. See the *Notes*\n        section for a full description of the format strings.\n    \n        Format strings are just an abbreviation for quickly setting\n        basic line properties. All of these and more can also be\n        controlled by keyword arguments.\n    \n        This argument cannot be passed as keyword.\n    \n    data : indexable object, optional\n        An object with labelled data. If given, provide the label names to\n        plot in *x* and *y*.\n    \n        .. note::\n            Technically there's a slight ambiguity in calls where the\n            second label is a valid *fmt*. ``plot('n', 'o', data=obj)``\n            could be ``plt(x, y)`` or ``plt(y, fmt)``. In such cases,\n            the former interpretation is chosen, but a warning is issued.\n            You may suppress the warning by adding an empty format string\n            ``plot('n', 'o', '', data=obj)``.\n    \n    Returns\n    -------\n    list of `.Line2D`\n        A list of lines representing the plotted data.\n    \n    Other Parameters\n    ----------------\n    scalex, scaley : bool, default: True\n        These parameters determine if the view limits are adapted to the\n        data limits. The values are passed on to\n        `~.axes.Axes.autoscale_view`.\n    \n    **kwargs : `~matplotlib.lines.Line2D` properties, optional\n        *kwargs* are used to specify properties like a line label (for\n        auto legends), linewidth, antialiasing, marker face color.\n        Example::\n    \n        >>> plot([1, 2, 3], [1, 2, 3], 'go-', label='line 1', linewidth=2)\n        >>> plot([1, 2, 3], [1, 4, 9], 'rs', label='line 2')\n    \n        If you specify multiple lines with one plot call, the kwargs apply\n        to all those lines. In case the label object is iterable, each\n        element is used as labels for each set of data.\n    \n        Here is a list of available `.Line2D` properties:\n    \n        Properties:\n        agg_filter: a filter function, which takes a (m, n, 3) float array and a dpi value, and returns a (m, n, 3) array and two offsets from the bottom left corner of the image\n        alpha: scalar or None\n        animated: bool\n        antialiased or aa: bool\n        clip_box: `.Bbox`\n        clip_on: bool\n        clip_path: Patch or (Path, Transform) or None\n        color or c: color\n        dash_capstyle: `.CapStyle` or {'butt', 'projecting', 'round'}\n        dash_joinstyle: `.JoinStyle` or {'miter', 'round', 'bevel'}\n        dashes: sequence of floats (on/off ink in points) or (None, None)\n        data: (2, N) array or two 1D arrays\n        drawstyle or ds: {'default', 'steps', 'steps-pre', 'steps-mid', 'steps-post'}, default: 'default'\n        figure: `.Figure`\n        fillstyle: {'full', 'left', 'right', 'bottom', 'top', 'none'}\n        gapcolor: color or None\n        gid: str\n        in_layout: bool\n        label: object\n        linestyle or ls: {'-', '--', '-.', ':', '', (offset, on-off-seq), ...}\n        linewidth or lw: float\n        marker: marker style string, `~.path.Path` or `~.markers.MarkerStyle`\n        markeredgecolor or mec: color\n        markeredgewidth or mew: float\n        markerfacecolor or mfc: color\n        markerfacecoloralt or mfcalt: color\n        markersize or ms: float\n        markevery: None or int or (int, int) or slice or list[int] or float or (float, float) or list[bool]\n        mouseover: bool\n        path_effects: `.AbstractPathEffect`\n        picker: float or callable[[Artist, Event], tuple[bool, dict]]\n        pickradius: unknown\n        rasterized: bool\n        sketch_params: (scale: float, length: float, randomness: float)\n        snap: bool or None\n        solid_capstyle: `.CapStyle` or {'butt', 'projecting', 'round'}\n        solid_joinstyle: `.JoinStyle` or {'miter', 'round', 'bevel'}\n        transform: unknown\n        url: str\n        visible: bool\n        xdata: 1D array\n        ydata: 1D array\n        zorder: float\n    \n    See Also\n    --------\n    scatter : XY scatter plot with markers of varying size and/or color (\n        sometimes also called bubble chart).\n    \n    Notes\n    -----\n    **Format Strings**\n    \n    A format string consists of a part for color, marker and line::\n    \n        fmt = '[marker][line][color]'\n    \n    Each of them is optional. If not provided, the value from the style\n    cycle is used. Exception: If ``line`` is given, but no ``marker``,\n    the data will be a line without markers.\n    \n    Other combinations such as ``[color][marker][line]`` are also\n    supported, but note that their parsing may be ambiguous.\n    \n    **Markers**\n    \n    =============   ===============================\n    character       description\n    =============   ===============================\n    ``'.'``         point marker\n    ``','``         pixel marker\n    ``'o'``         circle marker\n    ``'v'``         triangle_down marker\n    ``'^'``         triangle_up marker\n    ``'<'``         triangle_left marker\n    ``'>'``         triangle_right marker\n    ``'1'``         tri_down marker\n    ``'2'``         tri_up marker\n    ``'3'``         tri_left marker\n    ``'4'``         tri_right marker\n    ``'8'``         octagon marker\n    ``'s'``         square marker\n    ``'p'``         pentagon marker\n    ``'P'``         plus (filled) marker\n    ``'*'``         star marker\n    ``'h'``         hexagon1 marker\n    ``'H'``         hexagon2 marker\n    ``'+'``         plus marker\n    ``'x'``         x marker\n    ``'X'``         x (filled) marker\n    ``'D'``         diamond marker\n    ``'d'``         thin_diamond marker\n    ``'|'``         vline marker\n    ``'_'``         hline marker\n    =============   ===============================\n    \n    **Line Styles**\n    \n    =============    ===============================\n    character        description\n    =============    ===============================\n    ``'-'``          solid line style\n    ``'--'``         dashed line style\n    ``'-.'``         dash-dot line style\n    ``':'``          dotted line style\n    =============    ===============================\n    \n    Example format strings::\n    \n        'b'    # blue markers with default shape\n        'or'   # red circles\n        '-g'   # green solid line\n        '--'   # dashed line with default color\n        '^k:'  # black triangle_up markers connected by a dotted line\n    \n    **Colors**\n    \n    The supported color abbreviations are the single letter codes\n    \n    =============    ===============================\n    character        color\n    =============    ===============================\n    ``'b'``          blue\n    ``'g'``          green\n    ``'r'``          red\n    ``'c'``          cyan\n    ``'m'``          magenta\n    ``'y'``          yellow\n    ``'k'``          black\n    ``'w'``          white\n    =============    ===============================\n    \n    and the ``'CN'`` colors that index into the default property cycle.\n    \n    If the color is the only part of the format string, you can\n    additionally use any  `matplotlib.colors` spec, e.g. full names\n    (``'green'``) or hex strings (``'#008000'``).\n\n",
          "output_type": "stream"
        }
      ],
      "execution_count": null
    },
    {
      "cell_type": "markdown",
      "source": [
        "## Step 2: Fit Model Using All Data\n",
        "You know the best tree size. If you were going to deploy this model in practice, you would make it even more accurate by using all of the data and keeping that tree size.  That is, you don't need to hold out the validation data now that you've made all your modeling decisions."
      ],
      "metadata": {
        "id": "iuQKRoiCv46y"
      }
    },
    {
      "cell_type": "code",
      "source": [
        "# Fill in argument to make optimal size and uncomment\n",
        "final_model = DecisionTreeRegressor(max_leaf_nodes=best_tree_size, random_state=0)\n",
        "\n",
        "# fit the final model and uncomment the next two lines\n",
        "final_model.fit(X, y)\n",
        "\n",
        "# Check your answer\n",
        "step_2.check()"
      ],
      "metadata": {
        "trusted": true,
        "execution": {
          "iopub.status.busy": "2025-02-28T18:07:57.945633Z",
          "iopub.execute_input": "2025-02-28T18:07:57.946016Z",
          "iopub.status.idle": "2025-02-28T18:07:57.961492Z",
          "shell.execute_reply.started": "2025-02-28T18:07:57.945989Z",
          "shell.execute_reply": "2025-02-28T18:07:57.960206Z"
        },
        "id": "9m8TFOlbv46z",
        "outputId": "bfb78186-418c-4a6b-a979-41228710eedf"
      },
      "outputs": [
        {
          "output_type": "display_data",
          "data": {
            "text/plain": "<IPython.core.display.Javascript object>",
            "application/javascript": "parent.postMessage({\"jupyterEvent\": \"custom.exercise_interaction\", \"data\": {\"outcomeType\": 1, \"valueTowardsCompletion\": 0.5, \"interactionType\": 1, \"questionType\": 2, \"questionId\": \"2_FitModelWithAllData\", \"learnToolsVersion\": \"0.3.4\", \"failureMessage\": \"\", \"exceptionClass\": \"\", \"trace\": \"\"}}, \"*\")"
          },
          "metadata": {}
        },
        {
          "output_type": "display_data",
          "data": {
            "text/plain": "Correct",
            "text/markdown": "<span style=\"color:#33cc33\">Correct</span>"
          },
          "metadata": {}
        }
      ],
      "execution_count": null
    },
    {
      "cell_type": "code",
      "source": [
        "# step_2.hint()\n",
        "# step_2.solution()"
      ],
      "metadata": {
        "trusted": true,
        "execution": {
          "iopub.status.busy": "2025-02-28T18:07:28.409032Z",
          "iopub.execute_input": "2025-02-28T18:07:28.409418Z",
          "iopub.status.idle": "2025-02-28T18:07:28.415093Z",
          "shell.execute_reply.started": "2025-02-28T18:07:28.40939Z",
          "shell.execute_reply": "2025-02-28T18:07:28.413414Z"
        },
        "id": "I8nwJ2p8v460"
      },
      "outputs": [],
      "execution_count": null
    },
    {
      "cell_type": "markdown",
      "source": [
        "You've tuned this model and improved your results. But we are still using Decision Tree models, which are not very sophisticated by modern machine learning standards. In the next step you will learn to use Random Forests to improve your models even more.\n",
        "\n",
        "# Keep Going\n",
        "\n",
        "You are ready for **[Random Forests](https://www.kaggle.com/dansbecker/random-forests).**\n"
      ],
      "metadata": {
        "id": "dMsMKA31v461"
      }
    },
    {
      "cell_type": "markdown",
      "source": [
        "---\n",
        "\n",
        "\n",
        "\n",
        "\n",
        "*Have questions or comments? Visit the [course discussion forum](https://www.kaggle.com/learn/intro-to-machine-learning/discussion) to chat with other learners.*"
      ],
      "metadata": {
        "id": "T6HF6u_vv462"
      }
    }
  ]
}