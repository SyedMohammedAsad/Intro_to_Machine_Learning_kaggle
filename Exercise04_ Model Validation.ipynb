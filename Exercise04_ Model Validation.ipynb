{
  "metadata": {
    "kernelspec": {
      "display_name": "Python 3",
      "language": "python",
      "name": "python3"
    },
    "language_info": {
      "name": "python",
      "version": "3.10.12",
      "mimetype": "text/x-python",
      "codemirror_mode": {
        "name": "ipython",
        "version": 3
      },
      "pygments_lexer": "ipython3",
      "nbconvert_exporter": "python",
      "file_extension": ".py"
    },
    "kaggle": {
      "accelerator": "none",
      "dataSources": [
        {
          "sourceId": 10211,
          "databundleVersionId": 111096,
          "sourceType": "competition"
        },
        {
          "sourceId": 15520,
          "sourceType": "datasetVersion",
          "datasetId": 11167
        },
        {
          "sourceId": 38454,
          "sourceType": "datasetVersion",
          "datasetId": 2709
        }
      ],
      "isInternetEnabled": false,
      "language": "python",
      "sourceType": "notebook",
      "isGpuEnabled": false
    },
    "colab": {
      "name": "Exercise: Model Validation",
      "provenance": []
    }
  },
  "nbformat_minor": 0,
  "nbformat": 4,
  "cells": [
    {
      "cell_type": "markdown",
      "source": [
        "## Recap\n",
        "You've built a model. In this exercise you will test how good your model is.\n",
        "\n",
        "Run the cell below to set up your coding environment where the previous exercise left off."
      ],
      "metadata": {
        "id": "5FhUwnbCvFrg"
      }
    },
    {
      "cell_type": "code",
      "source": [
        "# Code you have previously used to load data\n",
        "import pandas as pd\n",
        "from sklearn.tree import DecisionTreeRegressor\n",
        "\n",
        "# Path of the file to read\n",
        "iowa_file_path = '../input/home-data-for-ml-course/train.csv'\n",
        "\n",
        "home_data = pd.read_csv(iowa_file_path)\n",
        "y = home_data.SalePrice\n",
        "feature_columns = ['LotArea', 'YearBuilt', '1stFlrSF', '2ndFlrSF', 'FullBath', 'BedroomAbvGr', 'TotRmsAbvGrd']\n",
        "X = home_data[feature_columns]\n",
        "\n",
        "# Specify Model\n",
        "iowa_model = DecisionTreeRegressor()\n",
        "# Fit Model\n",
        "iowa_model.fit(X, y)\n",
        "\n",
        "print(\"First in-sample predictions:\", iowa_model.predict(X.head()))\n",
        "print(\"Actual target values for those homes:\", y.head().tolist())\n",
        "\n",
        "# Set up code checking\n",
        "from learntools.core import binder\n",
        "binder.bind(globals())\n",
        "from learntools.machine_learning.ex4 import *\n",
        "print(\"Setup Complete\")"
      ],
      "metadata": {
        "trusted": true,
        "execution": {
          "iopub.status.busy": "2025-02-28T18:04:33.994686Z",
          "iopub.execute_input": "2025-02-28T18:04:33.995048Z",
          "iopub.status.idle": "2025-02-28T18:04:36.501435Z",
          "shell.execute_reply.started": "2025-02-28T18:04:33.99501Z",
          "shell.execute_reply": "2025-02-28T18:04:36.500249Z"
        },
        "id": "i-SnwTrdvFrj",
        "outputId": "337295ad-dde2-4637-9186-b3b3d3e90d30"
      },
      "outputs": [
        {
          "name": "stdout",
          "text": "First in-sample predictions: [208500. 181500. 223500. 140000. 250000.]\nActual target values for those homes: [208500, 181500, 223500, 140000, 250000]\nSetup Complete\n",
          "output_type": "stream"
        }
      ],
      "execution_count": null
    },
    {
      "cell_type": "markdown",
      "source": [
        "# Exercises\n",
        "\n",
        "## Step 1: Split Your Data\n",
        "Use the `train_test_split` function to split up your data.\n",
        "\n",
        "Give it the argument `random_state=1` so the `check` functions know what to expect when verifying your code.\n",
        "\n",
        "Recall, your features are loaded in the DataFrame **X** and your target is loaded in **y**.\n"
      ],
      "metadata": {
        "id": "5pBiM1fXvFrl"
      }
    },
    {
      "cell_type": "code",
      "source": [
        "# Import the train_test_split function and uncomment\n",
        "from sklearn.model_selection import train_test_split\n",
        "\n",
        "# fill in and uncomment\n",
        "train_X, val_X, train_y, val_y = train_test_split(X, y, random_state=1)\n",
        "\n",
        "# Check your answer\n",
        "step_1.check()"
      ],
      "metadata": {
        "trusted": true,
        "execution": {
          "iopub.status.busy": "2025-02-28T18:04:36.502567Z",
          "iopub.execute_input": "2025-02-28T18:04:36.502938Z",
          "iopub.status.idle": "2025-02-28T18:04:36.519267Z",
          "shell.execute_reply.started": "2025-02-28T18:04:36.502901Z",
          "shell.execute_reply": "2025-02-28T18:04:36.518333Z"
        },
        "id": "vDa6xCTovFrn",
        "outputId": "a151a7a9-3718-4a70-9155-1832f9e8eead"
      },
      "outputs": [
        {
          "output_type": "display_data",
          "data": {
            "text/plain": "<IPython.core.display.Javascript object>",
            "application/javascript": "parent.postMessage({\"jupyterEvent\": \"custom.exercise_interaction\", \"data\": {\"outcomeType\": 1, \"valueTowardsCompletion\": 0.25, \"interactionType\": 1, \"questionType\": 2, \"questionId\": \"1_SplitData\", \"learnToolsVersion\": \"0.3.4\", \"failureMessage\": \"\", \"exceptionClass\": \"\", \"trace\": \"\"}}, \"*\")"
          },
          "metadata": {}
        },
        {
          "output_type": "display_data",
          "data": {
            "text/plain": "Correct",
            "text/markdown": "<span style=\"color:#33cc33\">Correct</span>"
          },
          "metadata": {}
        }
      ],
      "execution_count": null
    },
    {
      "cell_type": "code",
      "source": [
        "# The lines below will show you a hint or the solution.\n",
        "# step_1.hint()\n",
        "# step_1.solution()\n"
      ],
      "metadata": {
        "trusted": true,
        "execution": {
          "iopub.status.busy": "2025-02-28T18:04:36.520443Z",
          "iopub.execute_input": "2025-02-28T18:04:36.520881Z",
          "iopub.status.idle": "2025-02-28T18:04:36.538338Z",
          "shell.execute_reply.started": "2025-02-28T18:04:36.520842Z",
          "shell.execute_reply": "2025-02-28T18:04:36.537185Z"
        },
        "id": "iN1KZeYxvFrq"
      },
      "outputs": [],
      "execution_count": null
    },
    {
      "cell_type": "markdown",
      "source": [
        "## Step 2: Specify and Fit the Model\n",
        "\n",
        "Create a `DecisionTreeRegressor` model and fit it to the relevant data.\n",
        "Set `random_state` to 1 again when creating the model."
      ],
      "metadata": {
        "id": "YsvlNZzNvFrr"
      }
    },
    {
      "cell_type": "code",
      "source": [
        "# You imported DecisionTreeRegressor in your last exercise\n",
        "# and that code has been copied to the setup code above. So, no need to\n",
        "# import it again\n",
        "\n",
        "# Specify the model\n",
        "iowa_model = DecisionTreeRegressor(random_state=1)\n",
        "\n",
        "# Fit iowa_model with the training data.\n",
        "iowa_model.fit(train_X, train_y)\n",
        "\n",
        "# Check your answer\n",
        "step_2.check()"
      ],
      "metadata": {
        "trusted": true,
        "execution": {
          "iopub.status.busy": "2025-02-28T18:04:36.539515Z",
          "iopub.execute_input": "2025-02-28T18:04:36.539882Z",
          "iopub.status.idle": "2025-02-28T18:04:36.588119Z",
          "shell.execute_reply.started": "2025-02-28T18:04:36.539845Z",
          "shell.execute_reply": "2025-02-28T18:04:36.587183Z"
        },
        "id": "wTBDTo_kvFrs",
        "outputId": "50175f1b-7547-4449-c856-449b6f7a330c"
      },
      "outputs": [
        {
          "name": "stdout",
          "text": "[186500. 184000. 130000.  92000. 164500. 220000. 335000. 144152. 215000.\n 262000.]\n[186500. 184000. 130000.  92000. 164500. 220000. 335000. 144152. 215000.\n 262000.]\n",
          "output_type": "stream"
        },
        {
          "output_type": "display_data",
          "data": {
            "text/plain": "<IPython.core.display.Javascript object>",
            "application/javascript": "parent.postMessage({\"jupyterEvent\": \"custom.exercise_interaction\", \"data\": {\"outcomeType\": 1, \"valueTowardsCompletion\": 0.25, \"interactionType\": 1, \"questionType\": 2, \"questionId\": \"2_FitModelWithTrain\", \"learnToolsVersion\": \"0.3.4\", \"failureMessage\": \"\", \"exceptionClass\": \"\", \"trace\": \"\"}}, \"*\")"
          },
          "metadata": {}
        },
        {
          "output_type": "display_data",
          "data": {
            "text/plain": "Correct",
            "text/markdown": "<span style=\"color:#33cc33\">Correct</span>"
          },
          "metadata": {}
        }
      ],
      "execution_count": null
    },
    {
      "cell_type": "code",
      "source": [
        "# step_2.hint()\n",
        "# step_2.solution()"
      ],
      "metadata": {
        "trusted": true,
        "execution": {
          "iopub.status.busy": "2025-02-28T18:04:36.589108Z",
          "iopub.execute_input": "2025-02-28T18:04:36.589523Z",
          "iopub.status.idle": "2025-02-28T18:04:36.593294Z",
          "shell.execute_reply.started": "2025-02-28T18:04:36.589468Z",
          "shell.execute_reply": "2025-02-28T18:04:36.592453Z"
        },
        "id": "M3axiOPrvFrt"
      },
      "outputs": [],
      "execution_count": null
    },
    {
      "cell_type": "markdown",
      "source": [
        "## Step 3: Make Predictions with Validation data\n"
      ],
      "metadata": {
        "id": "umhq-qFIvFru"
      }
    },
    {
      "cell_type": "code",
      "source": [
        "# Predict with all validation observations\n",
        "val_predictions = iowa_model.predict(val_X)\n",
        "\n",
        "# Check your answer\n",
        "step_3.check()"
      ],
      "metadata": {
        "trusted": true,
        "execution": {
          "iopub.status.busy": "2025-02-28T18:04:36.595981Z",
          "iopub.execute_input": "2025-02-28T18:04:36.596299Z",
          "iopub.status.idle": "2025-02-28T18:04:36.617773Z",
          "shell.execute_reply.started": "2025-02-28T18:04:36.596266Z",
          "shell.execute_reply": "2025-02-28T18:04:36.616724Z"
        },
        "id": "adSGkvNWvFru",
        "outputId": "43d58640-4649-449c-98f6-9f6b82cd7623"
      },
      "outputs": [
        {
          "output_type": "display_data",
          "data": {
            "text/plain": "<IPython.core.display.Javascript object>",
            "application/javascript": "parent.postMessage({\"jupyterEvent\": \"custom.exercise_interaction\", \"data\": {\"outcomeType\": 1, \"valueTowardsCompletion\": 0.25, \"interactionType\": 1, \"questionType\": 2, \"questionId\": \"3_ValPreds\", \"learnToolsVersion\": \"0.3.4\", \"failureMessage\": \"\", \"exceptionClass\": \"\", \"trace\": \"\"}}, \"*\")"
          },
          "metadata": {}
        },
        {
          "output_type": "display_data",
          "data": {
            "text/plain": "Correct",
            "text/markdown": "<span style=\"color:#33cc33\">Correct</span>"
          },
          "metadata": {}
        }
      ],
      "execution_count": null
    },
    {
      "cell_type": "code",
      "source": [
        "# step_3.hint()\n",
        "# step_3.solution()"
      ],
      "metadata": {
        "trusted": true,
        "execution": {
          "iopub.status.busy": "2025-02-28T18:04:36.619339Z",
          "iopub.execute_input": "2025-02-28T18:04:36.619723Z",
          "iopub.status.idle": "2025-02-28T18:04:36.630592Z",
          "shell.execute_reply.started": "2025-02-28T18:04:36.619685Z",
          "shell.execute_reply": "2025-02-28T18:04:36.629443Z"
        },
        "id": "0a-9YceIvFrv"
      },
      "outputs": [],
      "execution_count": null
    },
    {
      "cell_type": "markdown",
      "source": [
        "Inspect your predictions and actual values from validation data."
      ],
      "metadata": {
        "id": "s5b48AmvvFrv"
      }
    },
    {
      "cell_type": "code",
      "source": [
        "# print the top few validation predictions\n",
        "print(val_predictions[:5])\n",
        "# print the top few actual prices from validation data\n",
        "print(val_y[:5])"
      ],
      "metadata": {
        "trusted": true,
        "execution": {
          "iopub.status.busy": "2025-02-28T18:04:36.631628Z",
          "iopub.execute_input": "2025-02-28T18:04:36.631999Z",
          "iopub.status.idle": "2025-02-28T18:04:36.647241Z",
          "shell.execute_reply.started": "2025-02-28T18:04:36.631962Z",
          "shell.execute_reply": "2025-02-28T18:04:36.646161Z"
        },
        "id": "P8C8_DMQvFrv",
        "outputId": "7f7de09e-5704-4674-bf74-1d90bada821f"
      },
      "outputs": [
        {
          "name": "stdout",
          "text": "[186500. 184000. 130000.  92000. 164500.]\n258     231500\n267     179500\n288     122000\n649      84500\n1233    142000\nName: SalePrice, dtype: int64\n",
          "output_type": "stream"
        }
      ],
      "execution_count": null
    },
    {
      "cell_type": "markdown",
      "source": [
        "What do you notice that is different from what you saw with in-sample predictions (which are printed after the top code cell in this page).\n",
        "\n",
        "Do you remember why validation predictions differ from in-sample (or training) predictions? This is an important idea from the last lesson.\n",
        "\n",
        "## Step 4: Calculate the Mean Absolute Error in Validation Data\n"
      ],
      "metadata": {
        "id": "iKQ6iOrAvFrw"
      }
    },
    {
      "cell_type": "code",
      "source": [
        "from sklearn.metrics import mean_absolute_error\n",
        "val_mae = mean_absolute_error(val_y, val_predictions)\n",
        "\n",
        "# uncomment following line to see the validation_mae\n",
        "print(val_mae)\n",
        "\n",
        "# Check your answer\n",
        "step_4.check()"
      ],
      "metadata": {
        "trusted": true,
        "execution": {
          "iopub.status.busy": "2025-02-28T18:04:36.648402Z",
          "iopub.execute_input": "2025-02-28T18:04:36.64881Z",
          "iopub.status.idle": "2025-02-28T18:04:36.670717Z",
          "shell.execute_reply.started": "2025-02-28T18:04:36.648774Z",
          "shell.execute_reply": "2025-02-28T18:04:36.669713Z"
        },
        "id": "8hbCOC1pvFrw",
        "outputId": "2be6878b-39be-4ef1-8b93-2144b2adfdbc"
      },
      "outputs": [
        {
          "name": "stdout",
          "text": "29652.931506849316\n",
          "output_type": "stream"
        },
        {
          "output_type": "display_data",
          "data": {
            "text/plain": "<IPython.core.display.Javascript object>",
            "application/javascript": "parent.postMessage({\"jupyterEvent\": \"custom.exercise_interaction\", \"data\": {\"outcomeType\": 1, \"valueTowardsCompletion\": 0.25, \"interactionType\": 1, \"questionType\": 1, \"questionId\": \"4_MAE\", \"learnToolsVersion\": \"0.3.4\", \"failureMessage\": \"\", \"exceptionClass\": \"\", \"trace\": \"\"}}, \"*\")"
          },
          "metadata": {}
        },
        {
          "output_type": "display_data",
          "data": {
            "text/plain": "Correct",
            "text/markdown": "<span style=\"color:#33cc33\">Correct</span>"
          },
          "metadata": {}
        }
      ],
      "execution_count": null
    },
    {
      "cell_type": "code",
      "source": [
        "# step_4.hint()\n",
        "# step_4.solution()"
      ],
      "metadata": {
        "trusted": true,
        "execution": {
          "iopub.status.busy": "2025-02-28T18:04:36.671695Z",
          "iopub.execute_input": "2025-02-28T18:04:36.672053Z",
          "iopub.status.idle": "2025-02-28T18:04:36.683387Z",
          "shell.execute_reply.started": "2025-02-28T18:04:36.672009Z",
          "shell.execute_reply": "2025-02-28T18:04:36.682568Z"
        },
        "id": "uJLnIo9svFrx"
      },
      "outputs": [],
      "execution_count": null
    },
    {
      "cell_type": "markdown",
      "source": [
        "Is that MAE good?  There isn't a general rule for what values are good that applies across applications. But you'll see how to use (and improve) this number in the next step.\n",
        "\n",
        "# Keep Going\n",
        "\n",
        "You are ready for **[Underfitting and Overfitting](https://www.kaggle.com/dansbecker/underfitting-and-overfitting).**\n"
      ],
      "metadata": {
        "id": "HkE4q-nUvFrx"
      }
    },
    {
      "cell_type": "markdown",
      "source": [
        "---\n",
        "\n",
        "\n",
        "\n",
        "\n",
        "*Have questions or comments? Visit the [course discussion forum](https://www.kaggle.com/learn/intro-to-machine-learning/discussion) to chat with other learners.*"
      ],
      "metadata": {
        "id": "gquIKU89vFrx"
      }
    }
  ]
}