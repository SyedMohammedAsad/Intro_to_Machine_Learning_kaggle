{
  "metadata": {
    "kernelspec": {
      "display_name": "Python 3",
      "language": "python",
      "name": "python3"
    },
    "language_info": {
      "name": "python",
      "version": "3.10.12",
      "mimetype": "text/x-python",
      "codemirror_mode": {
        "name": "ipython",
        "version": 3
      },
      "pygments_lexer": "ipython3",
      "nbconvert_exporter": "python",
      "file_extension": ".py"
    },
    "kaggle": {
      "accelerator": "none",
      "dataSources": [
        {
          "sourceId": 10211,
          "databundleVersionId": 111096,
          "sourceType": "competition"
        }
      ],
      "isInternetEnabled": false,
      "language": "python",
      "sourceType": "notebook",
      "isGpuEnabled": false
    },
    "colab": {
      "name": "Exercise: Machine Learning Competitions",
      "provenance": []
    }
  },
  "nbformat_minor": 0,
  "nbformat": 4,
  "cells": [
    {
      "cell_type": "markdown",
      "source": [
        "# Introduction\n",
        "\n",
        "In this exercise, you will create and submit predictions for a Kaggle competition. You can then improve your model (e.g. by adding features) to apply what you've learned and move up the leaderboard.\n",
        "\n",
        "Begin by running the code cell below to set up code checking and the filepaths for the dataset."
      ],
      "metadata": {
        "id": "QmcTL1bpoCuT"
      }
    },
    {
      "cell_type": "code",
      "source": [
        "import pandas as pd\n",
        "from sklearn.ensemble import RandomForestRegressor\n",
        "from sklearn.metrics import mean_absolute_error\n",
        "from sklearn.model_selection import train_test_split\n",
        "from sklearn.tree import DecisionTreeRegressor\n",
        "\n",
        "# Set up code checking\n",
        "import os\n",
        "if not os.path.exists(\"../input/train.csv\"):\n",
        "    os.symlink(\"../input/home-data-for-ml-course/train.csv\", \"../input/train.csv\")\n",
        "    os.symlink(\"../input/home-data-for-ml-course/test.csv\", \"../input/test.csv\")\n",
        "from learntools.core import binder\n",
        "binder.bind(globals())\n",
        "from learntools.machine_learning.ex7 import *\n",
        "\n",
        "# Path of the file to read. We changed the directory structure to simplify submitting to a competition\n",
        "iowa_file_path = '../input/train.csv'\n",
        "\n",
        "home_data = pd.read_csv(iowa_file_path)\n",
        "# Create target object and call it y\n",
        "y = home_data.SalePrice\n",
        "# Create X\n",
        "features = ['LotArea', 'YearBuilt', '1stFlrSF', '2ndFlrSF', 'FullBath', 'BedroomAbvGr', 'TotRmsAbvGrd']\n",
        "X = home_data[features]\n",
        "\n",
        "# Split into validation and training data\n",
        "train_X, val_X, train_y, val_y = train_test_split(X, y, random_state=1)\n",
        "\n",
        "# Specify Model\n",
        "iowa_model = DecisionTreeRegressor(random_state=1)\n",
        "# Fit Model\n",
        "iowa_model.fit(train_X, train_y)\n",
        "\n",
        "# Make validation predictions and calculate mean absolute error\n",
        "val_predictions = iowa_model.predict(val_X)\n",
        "val_mae = mean_absolute_error(val_predictions, val_y)\n",
        "print(\"Validation MAE when not specifying max_leaf_nodes: {:,.0f}\".format(val_mae))\n",
        "\n",
        "# Using best value for max_leaf_nodes\n",
        "iowa_model = DecisionTreeRegressor(max_leaf_nodes=100, random_state=1)\n",
        "iowa_model.fit(train_X, train_y)\n",
        "val_predictions = iowa_model.predict(val_X)\n",
        "val_mae = mean_absolute_error(val_predictions, val_y)\n",
        "print(\"Validation MAE for best value of max_leaf_nodes: {:,.0f}\".format(val_mae))\n",
        "\n",
        "# Define the model. Set random_state to 1\n",
        "rf_model = RandomForestRegressor(random_state=1)\n",
        "rf_model.fit(train_X, train_y)\n",
        "rf_val_predictions = rf_model.predict(val_X)\n",
        "rf_val_mae = mean_absolute_error(rf_val_predictions, val_y)\n",
        "\n",
        "print(\"Validation MAE for Random Forest Model: {:,.0f}\".format(rf_val_mae))"
      ],
      "metadata": {
        "trusted": true,
        "execution": {
          "iopub.status.busy": "2025-03-10T15:10:10.634962Z",
          "iopub.execute_input": "2025-03-10T15:10:10.63521Z",
          "iopub.status.idle": "2025-03-10T15:10:14.426229Z",
          "shell.execute_reply.started": "2025-03-10T15:10:10.635186Z",
          "shell.execute_reply": "2025-03-10T15:10:14.424905Z"
        },
        "id": "QstnaFiSoCuW",
        "outputId": "c2c0ad04-2dc2-471c-ad9a-484faba719d9"
      },
      "outputs": [
        {
          "name": "stdout",
          "text": "Validation MAE when not specifying max_leaf_nodes: 29,653\nValidation MAE for best value of max_leaf_nodes: 27,283\nValidation MAE for Random Forest Model: 21,857\n",
          "output_type": "stream"
        }
      ],
      "execution_count": null
    },
    {
      "cell_type": "markdown",
      "source": [
        "# **Creating a Model For the Competition**\n",
        "Build a Random Forest model and train it on all of X and y."
      ],
      "metadata": {
        "id": "Vp3j44EyoCuZ"
      }
    },
    {
      "cell_type": "markdown",
      "source": [
        "# Train a model for the competition\n",
        "\n",
        "The code cell above trains a Random Forest model on **`train_X`** and **`train_y`**.  \n",
        "\n",
        "Use the code cell below to build a Random Forest model and train it on all of **`X`** and **`y`**."
      ],
      "metadata": {
        "id": "QyRBNMzRoCuc"
      }
    },
    {
      "cell_type": "code",
      "source": [
        "\n",
        "# To improve accuracy, create a new Random Forest model which you will train on all training data\n",
        "rf_model_on_full_data = RandomForestRegressor()\n",
        "\n",
        "# fit rf_model_on_full_data on all data from the training data\n",
        "rf_model_on_full_data.fit(X, y)"
      ],
      "metadata": {
        "trusted": true,
        "execution": {
          "iopub.status.busy": "2025-03-10T15:13:34.02982Z",
          "iopub.execute_input": "2025-03-10T15:13:34.030187Z",
          "iopub.status.idle": "2025-03-10T15:13:34.651714Z",
          "shell.execute_reply.started": "2025-03-10T15:13:34.030157Z",
          "shell.execute_reply": "2025-03-10T15:13:34.650673Z"
        },
        "id": "HuWDEcpboCuc",
        "outputId": "693f25f1-31dd-483a-d91f-2a666e10efa8"
      },
      "outputs": [
        {
          "execution_count": 2,
          "output_type": "execute_result",
          "data": {
            "text/plain": "RandomForestRegressor()",
            "text/html": "<style>#sk-container-id-1 {color: black;background-color: white;}#sk-container-id-1 pre{padding: 0;}#sk-container-id-1 div.sk-toggleable {background-color: white;}#sk-container-id-1 label.sk-toggleable__label {cursor: pointer;display: block;width: 100%;margin-bottom: 0;padding: 0.3em;box-sizing: border-box;text-align: center;}#sk-container-id-1 label.sk-toggleable__label-arrow:before {content: \"▸\";float: left;margin-right: 0.25em;color: #696969;}#sk-container-id-1 label.sk-toggleable__label-arrow:hover:before {color: black;}#sk-container-id-1 div.sk-estimator:hover label.sk-toggleable__label-arrow:before {color: black;}#sk-container-id-1 div.sk-toggleable__content {max-height: 0;max-width: 0;overflow: hidden;text-align: left;background-color: #f0f8ff;}#sk-container-id-1 div.sk-toggleable__content pre {margin: 0.2em;color: black;border-radius: 0.25em;background-color: #f0f8ff;}#sk-container-id-1 input.sk-toggleable__control:checked~div.sk-toggleable__content {max-height: 200px;max-width: 100%;overflow: auto;}#sk-container-id-1 input.sk-toggleable__control:checked~label.sk-toggleable__label-arrow:before {content: \"▾\";}#sk-container-id-1 div.sk-estimator input.sk-toggleable__control:checked~label.sk-toggleable__label {background-color: #d4ebff;}#sk-container-id-1 div.sk-label input.sk-toggleable__control:checked~label.sk-toggleable__label {background-color: #d4ebff;}#sk-container-id-1 input.sk-hidden--visually {border: 0;clip: rect(1px 1px 1px 1px);clip: rect(1px, 1px, 1px, 1px);height: 1px;margin: -1px;overflow: hidden;padding: 0;position: absolute;width: 1px;}#sk-container-id-1 div.sk-estimator {font-family: monospace;background-color: #f0f8ff;border: 1px dotted black;border-radius: 0.25em;box-sizing: border-box;margin-bottom: 0.5em;}#sk-container-id-1 div.sk-estimator:hover {background-color: #d4ebff;}#sk-container-id-1 div.sk-parallel-item::after {content: \"\";width: 100%;border-bottom: 1px solid gray;flex-grow: 1;}#sk-container-id-1 div.sk-label:hover label.sk-toggleable__label {background-color: #d4ebff;}#sk-container-id-1 div.sk-serial::before {content: \"\";position: absolute;border-left: 1px solid gray;box-sizing: border-box;top: 0;bottom: 0;left: 50%;z-index: 0;}#sk-container-id-1 div.sk-serial {display: flex;flex-direction: column;align-items: center;background-color: white;padding-right: 0.2em;padding-left: 0.2em;position: relative;}#sk-container-id-1 div.sk-item {position: relative;z-index: 1;}#sk-container-id-1 div.sk-parallel {display: flex;align-items: stretch;justify-content: center;background-color: white;position: relative;}#sk-container-id-1 div.sk-item::before, #sk-container-id-1 div.sk-parallel-item::before {content: \"\";position: absolute;border-left: 1px solid gray;box-sizing: border-box;top: 0;bottom: 0;left: 50%;z-index: -1;}#sk-container-id-1 div.sk-parallel-item {display: flex;flex-direction: column;z-index: 1;position: relative;background-color: white;}#sk-container-id-1 div.sk-parallel-item:first-child::after {align-self: flex-end;width: 50%;}#sk-container-id-1 div.sk-parallel-item:last-child::after {align-self: flex-start;width: 50%;}#sk-container-id-1 div.sk-parallel-item:only-child::after {width: 0;}#sk-container-id-1 div.sk-dashed-wrapped {border: 1px dashed gray;margin: 0 0.4em 0.5em 0.4em;box-sizing: border-box;padding-bottom: 0.4em;background-color: white;}#sk-container-id-1 div.sk-label label {font-family: monospace;font-weight: bold;display: inline-block;line-height: 1.2em;}#sk-container-id-1 div.sk-label-container {text-align: center;}#sk-container-id-1 div.sk-container {/* jupyter's `normalize.less` sets `[hidden] { display: none; }` but bootstrap.min.css set `[hidden] { display: none !important; }` so we also need the `!important` here to be able to override the default hidden behavior on the sphinx rendered scikit-learn.org. See: https://github.com/scikit-learn/scikit-learn/issues/21755 */display: inline-block !important;position: relative;}#sk-container-id-1 div.sk-text-repr-fallback {display: none;}</style><div id=\"sk-container-id-1\" class=\"sk-top-container\"><div class=\"sk-text-repr-fallback\"><pre>RandomForestRegressor()</pre><b>In a Jupyter environment, please rerun this cell to show the HTML representation or trust the notebook. <br />On GitHub, the HTML representation is unable to render, please try loading this page with nbviewer.org.</b></div><div class=\"sk-container\" hidden><div class=\"sk-item\"><div class=\"sk-estimator sk-toggleable\"><input class=\"sk-toggleable__control sk-hidden--visually\" id=\"sk-estimator-id-1\" type=\"checkbox\" checked><label for=\"sk-estimator-id-1\" class=\"sk-toggleable__label sk-toggleable__label-arrow\">RandomForestRegressor</label><div class=\"sk-toggleable__content\"><pre>RandomForestRegressor()</pre></div></div></div></div></div>"
          },
          "metadata": {}
        }
      ],
      "execution_count": null
    },
    {
      "cell_type": "markdown",
      "source": [
        "Now, read the file of \"test\" data, and apply your model to make predictions."
      ],
      "metadata": {
        "id": "uPfpwx3poCud"
      }
    },
    {
      "cell_type": "code",
      "source": [
        "# path to file you will use for predictions\n",
        "test_data_path = '../input/test.csv'\n",
        "\n",
        "# read test data file using pandas\n",
        "test_data = pd.read_csv(test_data_path)\n",
        "\n",
        "# create test_X which comes from test_data but includes only the columns you used for prediction.\n",
        "# The list of columns is stored in a variable called features\n",
        "print(features)\n",
        "test_X = test_data[features]\n",
        "print(test_X)\n",
        "\n",
        "# make predictions which we will submit.\n",
        "test_preds = rf_model_on_full_data.predict(test_X)\n",
        "\n",
        "# The lines below shows how to save predictions in format used for competition scoring\n",
        "# Just uncomment them.\n",
        "\n",
        "output = pd.DataFrame({'Id': test_data.Id,\n",
        "                       'SalePrice': test_preds})\n",
        "output.to_csv('submission.csv', index=False)"
      ],
      "metadata": {
        "trusted": true,
        "execution": {
          "iopub.status.busy": "2025-03-10T15:14:01.925251Z",
          "iopub.execute_input": "2025-03-10T15:14:01.925674Z",
          "iopub.status.idle": "2025-03-10T15:14:02.006719Z",
          "shell.execute_reply.started": "2025-03-10T15:14:01.925638Z",
          "shell.execute_reply": "2025-03-10T15:14:02.005656Z"
        },
        "id": "2ZNIcKXUoCue",
        "outputId": "73ad852e-326c-4223-b664-d45e6119dbbc"
      },
      "outputs": [
        {
          "name": "stdout",
          "text": "['LotArea', 'YearBuilt', '1stFlrSF', '2ndFlrSF', 'FullBath', 'BedroomAbvGr', 'TotRmsAbvGrd']\n      LotArea  YearBuilt  1stFlrSF  2ndFlrSF  FullBath  BedroomAbvGr  \\\n0       11622       1961       896         0         1             2   \n1       14267       1958      1329         0         1             3   \n2       13830       1997       928       701         2             3   \n3        9978       1998       926       678         2             3   \n4        5005       1992      1280         0         2             2   \n...       ...        ...       ...       ...       ...           ...   \n1454     1936       1970       546       546         1             3   \n1455     1894       1970       546       546         1             3   \n1456    20000       1960      1224         0         1             4   \n1457    10441       1992       970         0         1             3   \n1458     9627       1993       996      1004         2             3   \n\n      TotRmsAbvGrd  \n0                5  \n1                6  \n2                6  \n3                7  \n4                5  \n...            ...  \n1454             5  \n1455             6  \n1456             7  \n1457             6  \n1458             9  \n\n[1459 rows x 7 columns]\n",
          "output_type": "stream"
        }
      ],
      "execution_count": null
    },
    {
      "cell_type": "markdown",
      "source": [
        "Before submitting, run a check to make sure your `test_preds` have the right format."
      ],
      "metadata": {
        "id": "MLwEWGm7oCug"
      }
    },
    {
      "cell_type": "code",
      "source": [
        "# Check your answer (To get credit for completing the exercise, you must get a \"Correct\" result!)\n",
        "step_1.check()\n",
        "step_1.solution()"
      ],
      "metadata": {
        "trusted": true,
        "execution": {
          "iopub.status.busy": "2025-03-10T15:14:27.426073Z",
          "iopub.execute_input": "2025-03-10T15:14:27.426433Z",
          "iopub.status.idle": "2025-03-10T15:14:27.437264Z",
          "shell.execute_reply.started": "2025-03-10T15:14:27.426407Z",
          "shell.execute_reply": "2025-03-10T15:14:27.436238Z"
        },
        "id": "X1w0YjNfoCug",
        "outputId": "7b708c51-c2be-4b4d-f44c-b8f486af4cbf"
      },
      "outputs": [
        {
          "output_type": "display_data",
          "data": {
            "text/plain": "<IPython.core.display.Javascript object>",
            "application/javascript": "parent.postMessage({\"jupyterEvent\": \"custom.exercise_interaction\", \"data\": {\"outcomeType\": 1, \"valueTowardsCompletion\": 1.0, \"interactionType\": 1, \"questionType\": 2, \"questionId\": \"1_CheckSubmittablePreds\", \"learnToolsVersion\": \"0.3.4\", \"failureMessage\": \"\", \"exceptionClass\": \"\", \"trace\": \"\"}}, \"*\")"
          },
          "metadata": {}
        },
        {
          "output_type": "display_data",
          "data": {
            "text/plain": "Correct",
            "text/markdown": "<span style=\"color:#33cc33\">Correct</span>"
          },
          "metadata": {}
        },
        {
          "output_type": "display_data",
          "data": {
            "text/plain": "<IPython.core.display.Javascript object>",
            "application/javascript": "parent.postMessage({\"jupyterEvent\": \"custom.exercise_interaction\", \"data\": {\"interactionType\": 3, \"questionType\": 2, \"questionId\": \"1_CheckSubmittablePreds\", \"learnToolsVersion\": \"0.3.4\", \"valueTowardsCompletion\": 0.0, \"failureMessage\": \"\", \"exceptionClass\": \"\", \"trace\": \"\", \"outcomeType\": 4}}, \"*\")"
          },
          "metadata": {}
        },
        {
          "output_type": "display_data",
          "data": {
            "text/plain": "Solution: \n```python\n\n# In previous code cell\nrf_model_on_full_data = RandomForestRegressor()\nrf_model_on_full_data.fit(X, y)\n\n# Then in last code cell\ntest_data_path = '../input/test.csv'\ntest_data = pd.read_csv(test_data_path)\ntest_X = test_data[features]\ntest_preds = rf_model_on_full_data.predict(test_X)\n\n\noutput = pd.DataFrame({'Id': test_data.Id,\n                       'SalePrice': test_preds})\noutput.to_csv('submission.csv', index=False)\n\n```",
            "text/markdown": "<span style=\"color:#33cc99\">Solution:</span> \n```python\n\n# In previous code cell\nrf_model_on_full_data = RandomForestRegressor()\nrf_model_on_full_data.fit(X, y)\n\n# Then in last code cell\ntest_data_path = '../input/test.csv'\ntest_data = pd.read_csv(test_data_path)\ntest_X = test_data[features]\ntest_preds = rf_model_on_full_data.predict(test_X)\n\n\noutput = pd.DataFrame({'Id': test_data.Id,\n                       'SalePrice': test_preds})\noutput.to_csv('submission.csv', index=False)\n\n```"
          },
          "metadata": {}
        }
      ],
      "execution_count": null
    },
    {
      "cell_type": "markdown",
      "source": [
        "# Generate a submission\n",
        "\n",
        "Run the code cell below to generate a CSV file with your predictions that you can use to submit to the competition."
      ],
      "metadata": {
        "id": "UluTSSJWoCuh"
      }
    },
    {
      "cell_type": "code",
      "source": [
        "# Run the code to save predictions in the format used for competition scoring\n",
        "\n",
        "output = pd.DataFrame({'Id': test_data.Id,\n",
        "                       'SalePrice': test_preds})\n",
        "output.to_csv('submission.csv', index=False)"
      ],
      "metadata": {
        "trusted": true,
        "execution": {
          "iopub.status.busy": "2025-03-10T15:14:44.125447Z",
          "iopub.execute_input": "2025-03-10T15:14:44.125821Z",
          "iopub.status.idle": "2025-03-10T15:14:44.135797Z",
          "shell.execute_reply.started": "2025-03-10T15:14:44.12579Z",
          "shell.execute_reply": "2025-03-10T15:14:44.134543Z"
        },
        "id": "q5vuA_nKoCuh"
      },
      "outputs": [],
      "execution_count": null
    },
    {
      "cell_type": "markdown",
      "source": [
        "# Submit to the competition\n",
        "\n",
        "To test your results, you'll need to join the competition (if you haven't already).  So open a new window by clicking on **[this link](https://www.kaggle.com/c/home-data-for-ml-course)**.  Then click on the **Join Competition** button.\n",
        "\n",
        "![join competition image](https://storage.googleapis.com/kaggle-media/learn/images/axBzctl.png)\n",
        "\n",
        "Next, follow the instructions below:\n",
        "1. Begin by clicking on the **Save Version** button in the top right corner of the window.  This will generate a pop-up window.  \n",
        "2. Ensure that the **Save and Run All** option is selected, and then click on the **Save** button.\n",
        "3. This generates a window in the bottom left corner of the notebook.  After it has finished running, click on the number to the right of the **Save Version** button.  This pulls up a list of versions on the right of the screen.  Click on the ellipsis **(...)** to the right of the most recent version, and select **Open in Viewer**.  This brings you into view mode of the same page. You will need to scroll down to get back to these instructions.\n",
        "4. Click on the **Data** tab near the top of the screen.  Then, click on the file you would like to submit, and click on the **Submit** button to submit your results to the leaderboard.\n",
        "\n",
        "You have now successfully submitted to the competition!\n",
        "\n",
        "If you want to keep working to improve your performance, select the **Edit** button in the top right of the screen. Then you can change your code and repeat the process. There's a lot of room to improve, and you will climb up the leaderboard as you work.\n",
        "\n",
        "\n",
        "# Continue Your Progress\n",
        "There are many ways to improve your model, and **experimenting is a great way to learn at this point.**\n",
        "\n",
        "The best way to improve your model is to add features.  To add more features to the data, revisit the first code cell, and change this line of code to include more column names:\n",
        "```python\n",
        "features = ['LotArea', 'YearBuilt', '1stFlrSF', '2ndFlrSF', 'FullBath', 'BedroomAbvGr', 'TotRmsAbvGrd']\n",
        "```\n",
        "\n",
        "Some features will cause errors because of issues like missing values or non-numeric data types.  Here is a complete list of potential columns that you might like to use, and that won't throw errors:\n",
        "- 'MSSubClass'\n",
        "- 'LotArea'\n",
        "- 'OverallQual'\n",
        "- 'OverallCond'\n",
        "- 'YearBuilt'\n",
        "- 'YearRemodAdd'\n",
        "- '1stFlrSF'\n",
        "- '2ndFlrSF'\n",
        "- 'LowQualFinSF'\n",
        "- 'GrLivArea'\n",
        "- 'FullBath'\n",
        "- 'HalfBath'\n",
        "- 'BedroomAbvGr'\n",
        "- 'KitchenAbvGr'\n",
        "- 'TotRmsAbvGrd'\n",
        "- 'Fireplaces'\n",
        "- 'WoodDeckSF'\n",
        "- 'OpenPorchSF'\n",
        "- 'EnclosedPorch'\n",
        "- '3SsnPorch'\n",
        "- 'ScreenPorch'\n",
        "- 'PoolArea'\n",
        "- 'MiscVal'\n",
        "- 'MoSold'\n",
        "- 'YrSold'\n",
        "\n",
        "Look at the list of columns and think about what might affect home prices.  To learn more about each of these features, take a look at the data description on the **[competition page](https://www.kaggle.com/c/home-data-for-ml-course/data)**.\n",
        "\n",
        "After updating the code cell above that defines the features, re-run all of the code cells to evaluate the model and generate a new submission file.  \n",
        "\n",
        "\n",
        "# What's next?\n",
        "\n",
        "As mentioned above, some of the features will throw an error if you try to use them to train your model.  The **[Intermediate Machine Learning](https://www.kaggle.com/learn/intermediate-machine-learning)** course will teach you how to handle these types of features. You will also learn to use **xgboost**, a technique giving even better accuracy than Random Forest.\n",
        "\n",
        "The **[Pandas](https://kaggle.com/Learn/Pandas)** course will give you the data manipulation skills to quickly go from conceptual idea to implementation in your data science projects.\n",
        "\n",
        "You are also ready for the **[Deep Learning](https://kaggle.com/Learn/intro-to-Deep-Learning)** course, where you will build models with better-than-human level performance at computer vision tasks."
      ],
      "metadata": {
        "id": "w9D-9fVEoCuj"
      }
    },
    {
      "cell_type": "markdown",
      "source": [
        "---\n",
        "\n",
        "\n",
        "\n",
        "\n",
        "*Have questions or comments? Visit the [course discussion forum](https://www.kaggle.com/learn/intro-to-machine-learning/discussion) to chat with other learners.*"
      ],
      "metadata": {
        "id": "VVbl1H1ooCuj"
      }
    }
  ]
}